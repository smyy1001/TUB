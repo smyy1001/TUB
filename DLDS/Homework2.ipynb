{
 "cells": [
  {
   "cell_type": "markdown",
   "id": "1c49b15f",
   "metadata": {},
   "source": [
    "Before you turn this problem in, make sure everything runs as expected. First, **restart the kernel** (in the menubar, select Kernel $\\rightarrow$ Restart) and then **run all cells** (in the menubar, select Cell $\\rightarrow$ Run All).\n",
    "\n",
    "Make sure you fill in any place that says `YOUR CODE HERE` or \"YOUR ANSWER HERE\", as well as your name and collaborators below:"
   ]
  },
  {
   "cell_type": "code",
   "execution_count": null,
   "id": "37ee1956",
   "metadata": {},
   "outputs": [],
   "source": [
    "NAME = \"Sümeyye Acar\"\n",
    "COLLABORATORS = \"\""
   ]
  },
  {
   "cell_type": "markdown",
   "id": "49880b56",
   "metadata": {},
   "source": [
    "---"
   ]
  },
  {
   "cell_type": "markdown",
   "id": "11d1c50d-85d3-4d96-bd11-bd95b8a28d0d",
   "metadata": {},
   "source": [
    "## Foundations of Data Literacy and Data Science\n",
    "# Homework 2: Data containers and the Pandas library"
   ]
  },
  {
   "cell_type": "markdown",
   "id": "66cb3594-1309-41a9-80b9-bbebf1c22c49",
   "metadata": {},
   "source": [
    "1) Open the following page: https://www.destatis.de/DE/Themen/Branchen-Unternehmen/Energie/Erzeugung/Tabellen/bruttostromerzeugung.html . Look at the columns for 2019 and 2023. Find the percentages of \"Braunkohle\", \"Windkraft\" and \"Photovoltaik\" for these two years. For each energy source, create a list named for the energy source and containing the percentages in the two years. In addition, create a list containing the two years in question."
   ]
  },
  {
   "cell_type": "code",
   "execution_count": null,
   "id": "1fc92822-f1d8-4d5e-9421-ccd1bd020627",
   "metadata": {
    "deletable": false,
    "nbgrader": {
     "cell_type": "code",
     "checksum": "5a3a42655783a91b795a21d9a7c0d7f4",
     "grade": true,
     "grade_id": "p1",
     "locked": false,
     "points": 1,
     "schema_version": 3,
     "solution": true,
     "task": false
    }
   },
   "outputs": [],
   "source": [
    "braunkohle = [18.7, 16.9]\n",
    "windkraft = [20.7, 27.7]\n",
    "photovoltaik = [7.4, 12.5]\n",
    "years = [2019, 2023]\n",
    "\n",
    "\n",
    "# raise NotImplementedError()"
   ]
  },
  {
   "cell_type": "code",
   "execution_count": null,
   "id": "2237a6a2-a7eb-4379-b9be-ae9495ce44da",
   "metadata": {
    "deletable": false,
    "editable": false,
    "nbgrader": {
     "cell_type": "code",
     "checksum": "8cc1865ec5f9528b8d1451837b9e16de",
     "grade": true,
     "grade_id": "t1",
     "locked": true,
     "points": 1,
     "schema_version": 3,
     "solution": false,
     "task": false
    }
   },
   "outputs": [],
   "source": [
    "print(braunkohle, windkraft, photovoltaik, years)"
   ]
  },
  {
   "cell_type": "markdown",
   "id": "a450daa9-157b-4638-9a2d-873086f52da9",
   "metadata": {},
   "source": [
    "2) Create a dictionary with one key-value pair for each energy source. Each key should be named for the energy source, and the value should be the respective list. You do not need the year list here."
   ]
  },
  {
   "cell_type": "code",
   "execution_count": null,
   "id": "74b8ce10-f60b-4655-a48f-4f993a60c972",
   "metadata": {
    "deletable": false,
    "nbgrader": {
     "cell_type": "code",
     "checksum": "134fbfc58ec37c10d63694ddf0ff5fb3",
     "grade": true,
     "grade_id": "p2",
     "locked": false,
     "points": 1,
     "schema_version": 3,
     "solution": true,
     "task": false
    }
   },
   "outputs": [],
   "source": [
    "thisdict ={\"braunkohle\": braunkohle, \"windkraft\": windkraft, \"photovoltaik\": photovoltaik}\n",
    "# raise NotImplementedError()"
   ]
  },
  {
   "cell_type": "code",
   "execution_count": null,
   "id": "82c6e3a2-157a-426f-af71-4ea54fe2c1c4",
   "metadata": {
    "deletable": false,
    "editable": false,
    "nbgrader": {
     "cell_type": "code",
     "checksum": "b7b3c0d47b0606d52cd0992cda4f6a52",
     "grade": true,
     "grade_id": "t2",
     "locked": true,
     "points": 1,
     "schema_version": 3,
     "solution": false,
     "task": false
    }
   },
   "outputs": [],
   "source": [
    "print(thisdict)"
   ]
  },
  {
   "cell_type": "markdown",
   "id": "10d797aa-5fc1-4cf2-bf1b-e0a1d07be345",
   "metadata": {},
   "source": [
    "3) a) Import pandas and create a data frame from your dictionary."
   ]
  },
  {
   "cell_type": "code",
   "execution_count": null,
   "id": "94644a4b-f5fa-4b74-aa6d-1d588280aa6b",
   "metadata": {
    "deletable": false,
    "nbgrader": {
     "cell_type": "code",
     "checksum": "2bd7a135dc1c670630fa012ad64c3a24",
     "grade": true,
     "grade_id": "p3a",
     "locked": false,
     "points": 0.5,
     "schema_version": 3,
     "solution": true,
     "task": false
    }
   },
   "outputs": [],
   "source": [
    "import pandas as pd\n",
    "df = pd.DataFrame(thisdict)\n",
    "# raise NotImplementedError()"
   ]
  },
  {
   "cell_type": "code",
   "execution_count": null,
   "id": "a76f7a5e-51a6-49a1-805f-c8cf01853088",
   "metadata": {
    "deletable": false,
    "editable": false,
    "nbgrader": {
     "cell_type": "code",
     "checksum": "a2a24e5c4560570f47391220290d4a2c",
     "grade": true,
     "grade_id": "t3a",
     "locked": true,
     "points": 0.5,
     "schema_version": 3,
     "solution": false,
     "task": false
    }
   },
   "outputs": [],
   "source": [
    "print(df)"
   ]
  },
  {
   "cell_type": "markdown",
   "id": "33a740da-fded-479b-877b-0cb13da22f76",
   "metadata": {},
   "source": [
    "3) b) Set the year list as the index for the data frame."
   ]
  },
  {
   "cell_type": "code",
   "execution_count": null,
   "id": "d5e073bf-aa03-4eac-9221-b4bd4fb01907",
   "metadata": {
    "deletable": false,
    "nbgrader": {
     "cell_type": "code",
     "checksum": "f4a6034ce0297065568bb547b23824d8",
     "grade": true,
     "grade_id": "p3b",
     "locked": false,
     "points": 0.5,
     "schema_version": 3,
     "solution": true,
     "task": false
    }
   },
   "outputs": [],
   "source": [
    "df.index = years\n",
    "# raise NotImplementedError()"
   ]
  },
  {
   "cell_type": "code",
   "execution_count": null,
   "id": "a08a243c-07a3-4c25-83b8-09155011992f",
   "metadata": {},
   "outputs": [],
   "source": [
    "print(df)"
   ]
  },
  {
   "cell_type": "markdown",
   "id": "d31996b1-8632-4566-958f-be28496306a2",
   "metadata": {},
   "source": [
    "3) c) Check if the data types are float. Then change the data type for \"Braunkohle\" to \"string\"."
   ]
  },
  {
   "cell_type": "code",
   "execution_count": null,
   "id": "755c37a4-74eb-48a7-aada-e1ac78d6df4b",
   "metadata": {
    "deletable": false,
    "nbgrader": {
     "cell_type": "code",
     "checksum": "cbfe5a71b9f2dcabb4c89e2bebbda8ac",
     "grade": true,
     "grade_id": "p3c",
     "locked": false,
     "points": 0.5,
     "schema_version": 3,
     "solution": true,
     "task": false
    }
   },
   "outputs": [],
   "source": [
    "print(\"Data types before:\")\n",
    "print(df.dtypes)\n",
    "\n",
    "if df[\"braunkohle\"].dtype == \"float64\":\n",
    "    df[\"braunkohle\"] = df[\"braunkohle\"].astype(str)\n",
    "\n",
    "print(\"\\nData types after:\")\n",
    "print(df.dtypes)\n",
    "\n",
    "# raise NotImplementedError()"
   ]
  },
  {
   "cell_type": "code",
   "execution_count": null,
   "id": "e893fd26-b42b-4cc5-a7a2-cfe8120f0971",
   "metadata": {
    "deletable": false,
    "editable": false,
    "nbgrader": {
     "cell_type": "code",
     "checksum": "65fd7457d17f647dafa0d0b79c014663",
     "grade": true,
     "grade_id": "t3c",
     "locked": true,
     "points": 0.5,
     "schema_version": 3,
     "solution": false,
     "task": false
    }
   },
   "outputs": [],
   "source": [
    "print(df)"
   ]
  },
  {
   "cell_type": "markdown",
   "id": "34d92abe-037e-4910-9acf-ace9408556c3",
   "metadata": {},
   "source": [
    "4) Save the data frame to a csv file."
   ]
  },
  {
   "cell_type": "code",
   "execution_count": null,
   "id": "b0b3a4ec-b77f-43da-bd19-f0b0d03a9d45",
   "metadata": {
    "deletable": false,
    "nbgrader": {
     "cell_type": "code",
     "checksum": "f3ddd469e53ab80ec20899fd99bb864b",
     "grade": true,
     "grade_id": "p4",
     "locked": false,
     "points": 1,
     "schema_version": 3,
     "solution": true,
     "task": false
    }
   },
   "outputs": [],
   "source": [
    "df.to_csv(\"data.csv\", index=years, sep=\" \") \n",
    "# raise NotImplementedError()"
   ]
  },
  {
   "cell_type": "code",
   "execution_count": null,
   "id": "2642220f-1480-4e5b-b28c-6d5d8464ed0a",
   "metadata": {},
   "outputs": [],
   "source": []
  }
 ],
 "metadata": {
  "kernelspec": {
   "display_name": "Python 3",
   "language": "python",
   "name": "python3"
  },
  "language_info": {
   "codemirror_mode": {
    "name": "ipython",
    "version": 3
   },
   "file_extension": ".py",
   "mimetype": "text/x-python",
   "name": "python",
   "nbconvert_exporter": "python",
   "pygments_lexer": "ipython3",
   "version": "3.12.4"
  }
 },
 "nbformat": 4,
 "nbformat_minor": 5
}
