{
  "cells": [
    {
      "cell_type": "markdown",
      "id": "ce133c3b-96b7-450b-9b4c-a17fecff77e1",
      "metadata": {},
      "source": [
        "## Foundations of Data Literacy and Data Science (Lab)\n",
        "# Session 4: The Numpy library"
      ]
    },
    {
      "cell_type": "markdown",
      "id": "f465cf1b-7bef-4b1f-a3ae-d6c4335ee31a",
      "metadata": {},
      "source": [
        "#### Quick digression: Functions"
      ]
    },
    {
      "cell_type": "code",
      "execution_count": null,
      "id": "687c24cf-6b35-4d58-b15c-7f2ebadfaaa0",
      "metadata": {},
      "outputs": [],
      "source": [
        "def dictprint(in_dict:dict):\n",
        "    '''\n",
        "    This function does something to a dictionary.\n",
        "    '''\n",
        "    \n",
        "    print(in_dict.keys())\n",
        "    print(in_dict.values())\n",
        "    \n",
        "    return len(in_dict), \"bla\""
      ]
    },
    {
      "cell_type": "code",
      "execution_count": null,
      "id": "cc4ccb84-c26c-4d22-8756-af2162351273",
      "metadata": {},
      "outputs": [],
      "source": [
        "mydict = {\"key1\":\"value1\", \"key2\":\"value2\"}\n",
        "result = dictprint(mydict)"
      ]
    },
    {
      "cell_type": "code",
      "execution_count": null,
      "id": "62afee3a-64e8-4002-bf9c-c660f20dc8c1",
      "metadata": {},
      "outputs": [],
      "source": [
        "print(result)"
      ]
    },
    {
      "cell_type": "markdown",
      "id": "5c65bf05-e616-4797-9bb4-f548eb78f2c0",
      "metadata": {},
      "source": [
        "Now back to numpy..."
      ]
    },
    {
      "cell_type": "markdown",
      "id": "b0085f1e-d921-4ec8-8d44-dafc01c74e9d",
      "metadata": {},
      "source": [
        "#### The core of Numpy: Arrays"
      ]
    },
    {
      "cell_type": "code",
      "execution_count": null,
      "id": "b9b472e9-13b7-46c2-8aa5-c84c4cd80227",
      "metadata": {},
      "outputs": [],
      "source": [
        "import numpy as np"
      ]
    },
    {
      "cell_type": "code",
      "execution_count": null,
      "id": "6e2f2e72-c874-489f-badc-9cae83bc56b1",
      "metadata": {},
      "outputs": [],
      "source": [
        "a = np.array([1, 2, 3, 4, 5, 6])\n",
        "print(a)"
      ]
    },
    {
      "cell_type": "code",
      "execution_count": null,
      "id": "93aeb5d7-cb41-4f01-9e7f-40b44456eef5",
      "metadata": {},
      "outputs": [],
      "source": [
        "b = np.array([[1, 2, 3, 4], [5, 6, 7, 8], [9, 10, 11, 12]])\n",
        "print(b)"
      ]
    },
    {
      "cell_type": "code",
      "execution_count": null,
      "id": "ecdefb3c-648a-4ca8-8344-52792b733248",
      "metadata": {},
      "outputs": [],
      "source": [
        "#a[0] # What will this show?"
      ]
    },
    {
      "cell_type": "code",
      "execution_count": null,
      "id": "e6a95484-c147-4414-a273-cc84606890c9",
      "metadata": {},
      "outputs": [],
      "source": [
        "#b[0] # And this?"
      ]
    },
    {
      "cell_type": "markdown",
      "id": "dabbcec7-c48b-4904-8efc-a6d426cbb85e",
      "metadata": {},
      "source": [
        "#### *Exercise:*\n",
        "1) Get together in teams of four or so. Create a numpy array called *years* with one column per person and two rows. The first row should contain the birth year of each group member, and the second row the year of their graduation from high school.\n",
        "2) Create a function *type_len* that prints out AND returns the variable type and length of an array. Then use this function on your years array."
      ]
    },
    {
      "cell_type": "code",
      "execution_count": null,
      "id": "b06be5ae-ddb4-4861-af46-484264b78456",
      "metadata": {
        "deletable": false,
        "nbgrader": {
          "cell_type": "code",
          "checksum": "82f145a20eed2ef1dd65e2a7fadbcacc",
          "grade": false,
          "grade_id": "Exercise1",
          "locked": false,
          "schema_version": 3,
          "solution": true,
          "task": false
        }
      },
      "outputs": [],
      "source": [
        "# YOUR CODE HERE\n",
        "raise NotImplementedError()"
      ]
    },
    {
      "cell_type": "code",
      "execution_count": null,
      "id": "11848ee5-0544-4d80-a623-bbce630946ec",
      "metadata": {
        "deletable": false,
        "nbgrader": {
          "cell_type": "code",
          "checksum": "f065911bec64547e9ace66d53ba79321",
          "grade": false,
          "grade_id": "Exercise1-b",
          "locked": false,
          "schema_version": 3,
          "solution": true,
          "task": false
        }
      },
      "outputs": [],
      "source": [
        "# YOUR CODE HERE\n",
        "raise NotImplementedError()"
      ]
    },
    {
      "cell_type": "markdown",
      "id": "88fda0ad-9c7f-4e86-9cca-871b85d20ae6",
      "metadata": {},
      "source": [
        "#### Special arrays"
      ]
    },
    {
      "cell_type": "code",
      "execution_count": null,
      "id": "2697a3b7-3bac-44f5-a95b-52c9130793ef",
      "metadata": {},
      "outputs": [],
      "source": [
        "np.zeros((2, 1))"
      ]
    },
    {
      "cell_type": "code",
      "execution_count": null,
      "id": "99b3a6d2-0206-4b7a-815c-f3b4edda0df7",
      "metadata": {},
      "outputs": [],
      "source": [
        "ones = np.ones(2)\n",
        "ones"
      ]
    },
    {
      "cell_type": "code",
      "execution_count": null,
      "id": "99b252ff-3e81-44dd-8e28-6464b72df636",
      "metadata": {},
      "outputs": [],
      "source": [
        "np.ones(2, dtype=np.int64) # What is different here?"
      ]
    },
    {
      "cell_type": "code",
      "execution_count": null,
      "id": "6878421f-b084-475b-b5e8-b765c1f7befd",
      "metadata": {},
      "outputs": [],
      "source": [
        "np.arange(4) # What did this do?"
      ]
    },
    {
      "cell_type": "code",
      "execution_count": null,
      "id": "7bc6dcd3-c783-462f-bd2f-bddfe0f1a79c",
      "metadata": {},
      "outputs": [],
      "source": [
        "np.arange(2, 9, 2) # What did this do?"
      ]
    },
    {
      "cell_type": "code",
      "execution_count": null,
      "id": "af47228c-e286-4248-affc-0f6634b3c8ae",
      "metadata": {},
      "outputs": [],
      "source": [
        "np.linspace(0, 10, num=5) # And this?"
      ]
    },
    {
      "cell_type": "markdown",
      "id": "113bfa2c-5239-4765-b157-c7db7257fe1c",
      "metadata": {},
      "source": [
        "#### Indexing and slicing"
      ]
    },
    {
      "cell_type": "code",
      "execution_count": null,
      "id": "13dff25f-2347-4f8c-8771-599201bb95d3",
      "metadata": {},
      "outputs": [],
      "source": [
        "print(b) # Remember this array"
      ]
    },
    {
      "cell_type": "code",
      "execution_count": null,
      "id": "46d5373d-c6c2-424e-8975-2d5828f05c0a",
      "metadata": {},
      "outputs": [],
      "source": [
        "a = b[2:] # What did this do?\n",
        "print(a)"
      ]
    },
    {
      "cell_type": "code",
      "execution_count": null,
      "id": "b06fc0dc-8bc1-42e3-b7c6-a186d3fd8b7b",
      "metadata": {},
      "outputs": [],
      "source": [
        "a = b[-1] # And this? How is the output diferent?\n",
        "print(a)"
      ]
    },
    {
      "cell_type": "code",
      "execution_count": null,
      "id": "54a368ed-560f-4292-825a-63fb71bfeb7a",
      "metadata": {},
      "outputs": [],
      "source": [
        "a[0:2]"
      ]
    },
    {
      "cell_type": "code",
      "execution_count": null,
      "id": "8c868d0e-c75f-4eee-a656-4a9717b99b48",
      "metadata": {},
      "outputs": [],
      "source": [
        "a[1:]"
      ]
    },
    {
      "cell_type": "code",
      "execution_count": null,
      "id": "94c63685-3447-4c51-8e47-601c8e841788",
      "metadata": {},
      "outputs": [],
      "source": [
        "a[-2]"
      ]
    },
    {
      "cell_type": "markdown",
      "id": "022be1bf-e027-4a4a-a0aa-927a1e8bd053",
      "metadata": {},
      "source": [
        "#### *Exercise:*\n",
        "Index different parts of your *years* array: Get Numpy to show you the last two columns. Then, get the first row."
      ]
    },
    {
      "cell_type": "code",
      "execution_count": null,
      "id": "c0eb7820-d38e-4004-a50f-1c0fe752b4b4",
      "metadata": {
        "deletable": false,
        "nbgrader": {
          "cell_type": "code",
          "checksum": "e0614ddba239d4a98393abefb9ab1b4f",
          "grade": false,
          "grade_id": "Exercise2",
          "locked": false,
          "schema_version": 3,
          "solution": true,
          "task": false
        }
      },
      "outputs": [],
      "source": [
        "# YOUR CODE HERE\n",
        "raise NotImplementedError()"
      ]
    },
    {
      "cell_type": "markdown",
      "id": "bbb5355f-5d9b-453b-80e0-b8b06ccb83a5",
      "metadata": {},
      "source": [
        "#### Selecting based on values"
      ]
    },
    {
      "cell_type": "code",
      "execution_count": null,
      "id": "2ec56065-f67b-4f17-87a8-c91b87fa92d5",
      "metadata": {},
      "outputs": [],
      "source": [
        "a < 5 # What did this give us?"
      ]
    },
    {
      "cell_type": "code",
      "execution_count": null,
      "id": "f33a59db-1d6b-4e43-aa38-1099335c4b24",
      "metadata": {},
      "outputs": [],
      "source": [
        "five_up = a >= 5 # You can set your condition as a variable\n",
        "print(a[five_up])"
      ]
    },
    {
      "cell_type": "code",
      "execution_count": null,
      "id": "913b660e-5e7a-411d-9717-52ccece02541",
      "metadata": {},
      "outputs": [],
      "source": [
        "div_by_2 = a[a%2==0]\n",
        "print(div_by_2)"
      ]
    },
    {
      "cell_type": "code",
      "execution_count": null,
      "id": "d9705ed9-0328-47c7-a8b2-99dd8e0a4d8e",
      "metadata": {},
      "outputs": [],
      "source": [
        "#a[(a > 2) & (a < 11)] # What will this do?"
      ]
    },
    {
      "cell_type": "markdown",
      "id": "d42d9547-1a66-489b-83e3-73cdffd98c61",
      "metadata": {},
      "source": [
        "#### *Exercise:*\n",
        "1) Get Numpy to give you those values of your data frame which are higher than 2010. Then, get the values that are lower. \n",
        "2) Define a function *count_higher* that takes an array and a value, and gives back the number of elements in the array higher than that value."
      ]
    },
    {
      "cell_type": "markdown",
      "id": "d0d7b8f6-7863-4502-9316-caba96663d7a",
      "metadata": {},
      "source": [
        "*Hint:* You can sum over Boolean values with the usual sum() function. The result will be the number of True values."
      ]
    },
    {
      "cell_type": "code",
      "execution_count": null,
      "id": "022a2740-405d-49aa-9926-9af79baf9ad8",
      "metadata": {
        "deletable": false,
        "nbgrader": {
          "cell_type": "code",
          "checksum": "64d24bde6936c8076d474d6e0a63cbf4",
          "grade": false,
          "grade_id": "Exercise3",
          "locked": false,
          "schema_version": 3,
          "solution": true,
          "task": false
        }
      },
      "outputs": [],
      "source": [
        "# YOUR CODE HERE\n",
        "raise NotImplementedError()"
      ]
    },
    {
      "cell_type": "code",
      "execution_count": null,
      "id": "81ec14fa-a245-4bc6-b8dd-ca93621a5ee6",
      "metadata": {
        "deletable": false,
        "nbgrader": {
          "cell_type": "code",
          "checksum": "581ea0c27b5717031c97365727244c32",
          "grade": false,
          "grade_id": "Exercise3-b",
          "locked": false,
          "schema_version": 3,
          "solution": true,
          "task": false
        }
      },
      "outputs": [],
      "source": [
        "# YOUR CODE HERE\n",
        "raise NotImplementedError()"
      ]
    },
    {
      "cell_type": "markdown",
      "id": "f9abb838-dd32-49dd-afb8-46561c39ba25",
      "metadata": {},
      "source": [
        "#### Stacking arrays"
      ]
    },
    {
      "cell_type": "code",
      "execution_count": null,
      "id": "6bac931d-6a67-4449-b58e-195366950b50",
      "metadata": {},
      "outputs": [],
      "source": [
        "randarray = [0.14022471, 0.96360618, 0.37601032, 0.25528411]\n",
        "np.sort(randarray)"
      ]
    },
    {
      "cell_type": "code",
      "execution_count": null,
      "id": "ebbd840e-29d6-42e1-80c8-0c85314b39ad",
      "metadata": {},
      "outputs": [],
      "source": [
        "vstacked = np.vstack((a, randarray)) # What did this do?\n",
        "#vstacked"
      ]
    },
    {
      "cell_type": "code",
      "execution_count": null,
      "id": "17373097-1ba6-4e68-acc6-44c8ff099bd0",
      "metadata": {},
      "outputs": [],
      "source": [
        "hstacked = np.hstack((a, randarray)) # And this?\n",
        "#hstacked"
      ]
    },
    {
      "cell_type": "code",
      "execution_count": null,
      "id": "99766145-4a40-4318-a2a8-a63052a3f08f",
      "metadata": {},
      "outputs": [],
      "source": [
        "vstacked.shape # What does \"shape\" mean here?"
      ]
    },
    {
      "cell_type": "code",
      "execution_count": null,
      "id": "4235f4e2-1f92-41a0-828a-24797a2009da",
      "metadata": {},
      "outputs": [],
      "source": [
        "hstacked.shape"
      ]
    },
    {
      "cell_type": "markdown",
      "id": "653f20a1-9a92-43d6-85ff-ce28d7365ef1",
      "metadata": {},
      "source": [
        "#### Reshaping"
      ]
    },
    {
      "cell_type": "code",
      "execution_count": null,
      "id": "2e10e2af-aa77-4e08-b2ab-e024e330c424",
      "metadata": {},
      "outputs": [],
      "source": [
        "newshape = hstacked.reshape(4, 2) # What did this do?\n",
        "#newshape"
      ]
    },
    {
      "cell_type": "code",
      "execution_count": null,
      "id": "182f7d6a-e25f-4507-add1-d82470399322",
      "metadata": {},
      "outputs": [],
      "source": [
        "newshape.transpose() # And this?"
      ]
    },
    {
      "cell_type": "markdown",
      "id": "12fe29d7-2ca6-40dd-b700-8da3e73f77b3",
      "metadata": {},
      "source": [
        "#### Altering the dimensions"
      ]
    },
    {
      "cell_type": "code",
      "execution_count": null,
      "id": "c620d59c-59e7-458f-b90c-c41e42784980",
      "metadata": {},
      "outputs": [],
      "source": [
        "a # Remember this one"
      ]
    },
    {
      "cell_type": "code",
      "execution_count": null,
      "id": "b059b234-2574-4121-811d-9279718f75d4",
      "metadata": {},
      "outputs": [],
      "source": [
        "a.shape"
      ]
    },
    {
      "cell_type": "code",
      "execution_count": null,
      "id": "543dd91f-578e-4d29-a846-b44b02b2ef3e",
      "metadata": {},
      "outputs": [],
      "source": [
        "row_vector = a[np.newaxis, :]\n",
        "row_vector # What has changed?"
      ]
    },
    {
      "cell_type": "code",
      "execution_count": null,
      "id": "a85decc0-211c-4491-ae28-2391259a6363",
      "metadata": {},
      "outputs": [],
      "source": [
        "column_vector = a[:, np.newaxis]\n",
        "column_vector # What did this do?"
      ]
    },
    {
      "cell_type": "markdown",
      "id": "b256befd-7b50-44b3-927d-dd6199f26974",
      "metadata": {},
      "source": [
        "#### *Exercise:*\n",
        "Transpose your *years* array so that the rows represent the group members."
      ]
    },
    {
      "cell_type": "code",
      "execution_count": null,
      "id": "2cfb05e9-c267-46f4-9c98-08295915838f",
      "metadata": {
        "deletable": false,
        "nbgrader": {
          "cell_type": "code",
          "checksum": "02d3c45123b4e462737aed34b1992d44",
          "grade": false,
          "grade_id": "Exercise4",
          "locked": false,
          "schema_version": 3,
          "solution": true,
          "task": false
        }
      },
      "outputs": [],
      "source": [
        "# YOUR CODE HERE\n",
        "raise NotImplementedError()"
      ]
    },
    {
      "cell_type": "markdown",
      "id": "e9fcfdf5-a423-4892-969e-cad680505ed1",
      "metadata": {},
      "source": [
        "#### Simple math operators for arrays"
      ]
    },
    {
      "cell_type": "code",
      "execution_count": null,
      "id": "70e99ed8-7b10-4c41-9fd0-b4378b259a55",
      "metadata": {},
      "outputs": [],
      "source": [
        "randarray # Remember this one"
      ]
    },
    {
      "cell_type": "code",
      "execution_count": null,
      "id": "b33ef237-eb46-4d70-8575-5eeef7c49037",
      "metadata": {},
      "outputs": [],
      "source": [
        "a + randarray"
      ]
    },
    {
      "cell_type": "code",
      "execution_count": null,
      "id": "555de42f-28c0-47f5-a050-87c1dc2b9197",
      "metadata": {},
      "outputs": [],
      "source": [
        "randarray - a"
      ]
    },
    {
      "cell_type": "code",
      "execution_count": null,
      "id": "ae16bf34-099e-4bc6-a6c3-f7a17a809571",
      "metadata": {},
      "outputs": [],
      "source": [
        "randarray * a"
      ]
    },
    {
      "cell_type": "code",
      "execution_count": null,
      "id": "73d09f97-b1e8-4de5-a2bf-4e8341d5eed5",
      "metadata": {},
      "outputs": [],
      "source": [
        "product = randarray * a\n",
        "product"
      ]
    },
    {
      "cell_type": "code",
      "execution_count": null,
      "id": "d545c2b9-60eb-47de-8676-c55131e9ed10",
      "metadata": {},
      "outputs": [],
      "source": [
        "product / randarray"
      ]
    },
    {
      "cell_type": "code",
      "execution_count": null,
      "id": "966ab82c-8f00-4780-9990-e7633beaf246",
      "metadata": {},
      "outputs": [],
      "source": [
        "newshape # Remember this one"
      ]
    },
    {
      "cell_type": "code",
      "execution_count": null,
      "id": "b9b1a48a-6be8-43e9-8653-c0108e1d5c17",
      "metadata": {},
      "outputs": [],
      "source": [
        "newshape.sum(axis=0) # What did this do?"
      ]
    },
    {
      "cell_type": "code",
      "execution_count": null,
      "id": "882c800c-5ad2-42c9-ba44-737eedf0949e",
      "metadata": {},
      "outputs": [],
      "source": [
        "newshape.sum(axis=1) # What did this do?"
      ]
    },
    {
      "cell_type": "code",
      "execution_count": null,
      "id": "00fb6682-19e5-4669-b7cb-71980fbaa24f",
      "metadata": {},
      "outputs": [],
      "source": [
        "newshape.sum() # And this?"
      ]
    },
    {
      "cell_type": "code",
      "execution_count": null,
      "id": "fd48a31b-33bb-44f8-9673-e87a8434f9c3",
      "metadata": {},
      "outputs": [],
      "source": [
        "newshape * 1.6 # And this?"
      ]
    },
    {
      "cell_type": "markdown",
      "id": "7cbd467f-3468-4b1f-b78a-72c2a6a316c2",
      "metadata": {},
      "source": [
        "#### *Exercise:*\n",
        "1) Separate your array into two arrays: *birth* and *graduation*. Then subtract *birth* from *graduation* and save the result in a new array called *grad_age*.\n",
        "2) Re-implement your *count_higher* function using numpy's summing function."
      ]
    },
    {
      "cell_type": "code",
      "execution_count": null,
      "id": "efe5384e-3394-438f-8475-afc7b0471d58",
      "metadata": {
        "deletable": false,
        "nbgrader": {
          "cell_type": "code",
          "checksum": "e8c20b9318830a00e79caad233c232d2",
          "grade": false,
          "grade_id": "Exercise5",
          "locked": false,
          "schema_version": 3,
          "solution": true,
          "task": false
        }
      },
      "outputs": [],
      "source": [
        "# YOUR CODE HERE\n",
        "raise NotImplementedError()"
      ]
    },
    {
      "cell_type": "code",
      "execution_count": null,
      "id": "8ea29ff3-85d9-4cbe-9862-9733bf39a915",
      "metadata": {
        "deletable": false,
        "nbgrader": {
          "cell_type": "code",
          "checksum": "95f1d9f100f696fc58339e9facd48fbc",
          "grade": false,
          "grade_id": "Exercise5-b",
          "locked": false,
          "schema_version": 3,
          "solution": true,
          "task": false
        }
      },
      "outputs": [],
      "source": [
        "# YOUR CODE HERE\n",
        "raise NotImplementedError()"
      ]
    },
    {
      "cell_type": "markdown",
      "id": "6bfb40c4-40ea-4562-86ee-496818e67ce8",
      "metadata": {},
      "source": [
        "#### Descriptive statistics"
      ]
    },
    {
      "cell_type": "code",
      "execution_count": null,
      "id": "e7908b0d-1afe-410d-939e-68e8c4b67239",
      "metadata": {},
      "outputs": [],
      "source": [
        "newshape.max()"
      ]
    },
    {
      "cell_type": "code",
      "execution_count": null,
      "id": "f923ee2a-48c4-40f4-a66a-3d76463b9d8d",
      "metadata": {},
      "outputs": [],
      "source": [
        "newshape.min()"
      ]
    },
    {
      "cell_type": "code",
      "execution_count": null,
      "id": "1ebed14f-d139-4c32-ae72-eefc2bef3b9c",
      "metadata": {},
      "outputs": [],
      "source": [
        "np.unique(ones)"
      ]
    },
    {
      "cell_type": "markdown",
      "id": "ef20059d-42a3-4d5e-b1f2-70f1388ef6c3",
      "metadata": {},
      "source": [
        "#### *Exercise:*\n",
        "Apply these new functions to your *grad_age* array."
      ]
    },
    {
      "cell_type": "code",
      "execution_count": null,
      "id": "fbe2e634-0390-4d74-9428-24986d8b3be8",
      "metadata": {
        "deletable": false,
        "nbgrader": {
          "cell_type": "code",
          "checksum": "064a061ee7746c907a4c031dbdee28c7",
          "grade": false,
          "grade_id": "Exercise6",
          "locked": false,
          "schema_version": 3,
          "solution": true,
          "task": false
        }
      },
      "outputs": [],
      "source": [
        "# YOUR CODE HERE\n",
        "raise NotImplementedError()"
      ]
    },
    {
      "cell_type": "markdown",
      "id": "1b9824c2-3c19-40cd-8898-baa8529e6c86",
      "metadata": {},
      "source": [
        "#### Saving and loading files"
      ]
    },
    {
      "cell_type": "code",
      "execution_count": null,
      "id": "baed2163-2ce2-4e88-8ecb-6390bdcfdfa3",
      "metadata": {},
      "outputs": [],
      "source": [
        "import pandas as pd\n",
        "df = pd.read_csv(\"data_frame1.csv\", sep=\";\", header=0, index_col=0)\n",
        "newdf = df[[\"A\", \"C\", \"D\"]]\n",
        "newdf"
      ]
    },
    {
      "cell_type": "code",
      "execution_count": null,
      "id": "c61a8b43-60ef-42f9-9cd9-36e4aa714134",
      "metadata": {},
      "outputs": [],
      "source": [
        "newdf.values # What is this? What does this tell us about Pandas data frames?"
      ]
    },
    {
      "cell_type": "code",
      "execution_count": null,
      "id": "2f088d1c-6cc7-4552-aa57-c8c6fc0099b1",
      "metadata": {},
      "outputs": [],
      "source": [
        "type(newdf.values)"
      ]
    },
    {
      "cell_type": "code",
      "execution_count": null,
      "id": "dc5203d3-2497-40f6-81f3-7f2368505950",
      "metadata": {},
      "outputs": [],
      "source": [
        "newarr = newdf.values"
      ]
    },
    {
      "cell_type": "code",
      "execution_count": null,
      "id": "8b656665-fdec-4370-98e6-9c0e6549e102",
      "metadata": {},
      "outputs": [],
      "source": [
        "np.savetxt('new_arr.csv', newarr, delimiter=\";\")"
      ]
    },
    {
      "cell_type": "code",
      "execution_count": null,
      "id": "97510d4f-91c2-4ab3-ae04-729e99421f20",
      "metadata": {},
      "outputs": [],
      "source": [
        "newarr = np.loadtxt('new_arr.csv', delimiter=\";\")\n",
        "newarr"
      ]
    }
  ],
  "metadata": {
    "kernelspec": {
      "display_name": "Python 3 (ipykernel)",
      "language": "python",
      "name": "python3"
    },
    "language_info": {
      "codemirror_mode": {
        "name": "ipython",
        "version": 3
      },
      "file_extension": ".py",
      "mimetype": "text/x-python",
      "name": "python",
      "nbconvert_exporter": "python",
      "pygments_lexer": "ipython3",
      "version": "3.10.13"
    }
  },
  "nbformat": 4,
  "nbformat_minor": 5
}
