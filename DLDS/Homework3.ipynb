{
 "cells": [
  {
   "cell_type": "markdown",
   "id": "83dbf99e",
   "metadata": {},
   "source": [
    "Before you turn this problem in, make sure everything runs as expected. First, **restart the kernel** (in the menubar, select Kernel $\\rightarrow$ Restart) and then **run all cells** (in the menubar, select Cell $\\rightarrow$ Run All).\n",
    "\n",
    "Make sure you fill in any place that says `YOUR CODE HERE` or \"YOUR ANSWER HERE\", as well as your name and collaborators below:"
   ]
  },
  {
   "cell_type": "code",
   "execution_count": 1,
   "id": "4f3917d9",
   "metadata": {},
   "outputs": [],
   "source": [
    "NAME = \"Sümeyye Acar\"\n",
    "COLLABORATORS = \"\""
   ]
  },
  {
   "cell_type": "markdown",
   "id": "5a1ff27a",
   "metadata": {},
   "source": [
    "---"
   ]
  },
  {
   "cell_type": "markdown",
   "id": "11d1c50d-85d3-4d96-bd11-bd95b8a28d0d",
   "metadata": {},
   "source": [
    "## Foundations of Data Literacy and Data Science\n",
    "# Homework 3: The Pandas library, continued"
   ]
  },
  {
   "cell_type": "markdown",
   "id": "66cb3594-1309-41a9-80b9-bbebf1c22c49",
   "metadata": {},
   "source": [
    "1) a) Please copy the csv file containing the energy source data frame you saved in your last homework into the same folder as this notebook. Import pandas and load the data frame."
   ]
  },
  {
   "cell_type": "code",
   "execution_count": 2,
   "id": "af86ccdd",
   "metadata": {},
   "outputs": [],
   "source": [
    "import pandas as pd"
   ]
  },
  {
   "cell_type": "code",
   "execution_count": 3,
   "id": "1fc92822-f1d8-4d5e-9421-ccd1bd020627",
   "metadata": {
    "deletable": false,
    "nbgrader": {
     "cell_type": "code",
     "checksum": "07f12f7fb7ea8eb93cdc2482818199af",
     "grade": true,
     "grade_id": "p1a",
     "locked": false,
     "points": 1,
     "schema_version": 3,
     "solution": true,
     "task": false
    }
   },
   "outputs": [],
   "source": [
    "braunkohle = [18.7, 16.9]\n",
    "windkraft = [20.7, 27.7]\n",
    "photovoltaik = [7.4, 12.5]\n",
    "years = [2019, 2023]\n",
    "\n",
    "thisdict = {\n",
    "    \"braunkohle\": braunkohle,\n",
    "    \"windkraft\": windkraft,\n",
    "    \"photovoltaik\": photovoltaik,\n",
    "}\n",
    "\n",
    "df = pd.DataFrame(thisdict, index=years)\n",
    "\n",
    "# raise NotImplementedError()"
   ]
  },
  {
   "cell_type": "code",
   "execution_count": 4,
   "id": "2237a6a2-a7eb-4379-b9be-ae9495ce44da",
   "metadata": {
    "deletable": false,
    "editable": false,
    "nbgrader": {
     "cell_type": "code",
     "checksum": "d7783de330e43881077e69eaf786a57a",
     "grade": true,
     "grade_id": "t1a",
     "locked": true,
     "points": 1,
     "schema_version": 3,
     "solution": false,
     "task": false
    }
   },
   "outputs": [
    {
     "name": "stdout",
     "output_type": "stream",
     "text": [
      "      braunkohle  windkraft  photovoltaik\n",
      "2019        18.7       20.7           7.4\n",
      "2023        16.9       27.7          12.5\n"
     ]
    }
   ],
   "source": [
    "print(df)"
   ]
  },
  {
   "cell_type": "markdown",
   "id": "602007e5-3554-417c-8df5-cafe35a9caac",
   "metadata": {},
   "source": [
    "1) b) Create a copy of the data frame called df2, and add a column of NaN values called \"erdgas\" to df2."
   ]
  },
  {
   "cell_type": "code",
   "execution_count": 5,
   "id": "74b8ce10-f60b-4655-a48f-4f993a60c972",
   "metadata": {
    "deletable": false,
    "nbgrader": {
     "cell_type": "code",
     "checksum": "34c3176e84e4ca7769820820584a1349",
     "grade": true,
     "grade_id": "p1b",
     "locked": false,
     "points": 1,
     "schema_version": 3,
     "solution": true,
     "task": false
    }
   },
   "outputs": [],
   "source": [
    "import numpy as np\n",
    "\n",
    "df2 = df.copy()\n",
    "\n",
    "df2[\"erdgas\"] = np.nan\n",
    "\n",
    "# raise NotImplementedError()"
   ]
  },
  {
   "cell_type": "code",
   "execution_count": 6,
   "id": "429e2cff-16a3-4583-ba59-0e26c85bb319",
   "metadata": {
    "deletable": false,
    "editable": false,
    "nbgrader": {
     "cell_type": "code",
     "checksum": "60a0c47f562f6a0d80a7627db955f1f6",
     "grade": true,
     "grade_id": "t1b",
     "locked": true,
     "points": 1,
     "schema_version": 3,
     "solution": false,
     "task": false
    }
   },
   "outputs": [
    {
     "name": "stdout",
     "output_type": "stream",
     "text": [
      "      braunkohle  windkraft  photovoltaik  erdgas\n",
      "2019        18.7       20.7           7.4     NaN\n",
      "2023        16.9       27.7          12.5     NaN\n"
     ]
    }
   ],
   "source": [
    "print(df2)"
   ]
  },
  {
   "cell_type": "markdown",
   "id": "2d55a56e-5359-4045-aa58-43b2fb1d9d0d",
   "metadata": {},
   "source": [
    "1) c) Drop all rows of df2, then add rows of NaNs for the years 2020 and 2022, with the year number as the row index."
   ]
  },
  {
   "cell_type": "code",
   "execution_count": 7,
   "id": "a219e221-3075-479c-a0ee-3541d664126f",
   "metadata": {
    "deletable": false,
    "nbgrader": {
     "cell_type": "code",
     "checksum": "1de5c762a913ccaf05ab1f739f4bbc6a",
     "grade": true,
     "grade_id": "p1c",
     "locked": false,
     "points": 2,
     "schema_version": 3,
     "solution": true,
     "task": false
    }
   },
   "outputs": [],
   "source": [
    "df2 = df2.iloc[0:0]\n",
    "\n",
    "df2.loc[2020] = [np.nan] * len(df2.columns)\n",
    "df2.loc[2022] = [np.nan] * len(df2.columns)\n",
    "\n",
    "# raise NotImplementedError()"
   ]
  },
  {
   "cell_type": "code",
   "execution_count": 8,
   "id": "18e5279a-556e-4ffa-bfe2-a7fe13704999",
   "metadata": {
    "deletable": false,
    "editable": false,
    "nbgrader": {
     "cell_type": "code",
     "checksum": "aff11e5c3fdd9dd0d7651a0dd7b8b19c",
     "grade": true,
     "grade_id": "t1c",
     "locked": true,
     "points": 1,
     "schema_version": 3,
     "solution": false,
     "task": false
    }
   },
   "outputs": [
    {
     "name": "stdout",
     "output_type": "stream",
     "text": [
      "      braunkohle  windkraft  photovoltaik  erdgas\n",
      "2020         NaN        NaN           NaN     NaN\n",
      "2022         NaN        NaN           NaN     NaN\n"
     ]
    }
   ],
   "source": [
    "print(df2)"
   ]
  },
  {
   "cell_type": "markdown",
   "id": "3ec6fab5-5082-4f15-a70f-3c9978e10a77",
   "metadata": {},
   "source": [
    "1) d) Fill in the appropriate values for \"Erdgas\" from the website: https://www.destatis.de/DE/Themen/Branchen-Unternehmen/Energie/Erzeugung/Tabellen/bruttostromerzeugung.html. Also fill in the correct years in the \"year\" column. Then drop the columns for the other energy sources."
   ]
  },
  {
   "cell_type": "code",
   "execution_count": 9,
   "id": "73bf7975-e43e-4f79-811c-3458c5ba0de9",
   "metadata": {
    "deletable": false,
    "nbgrader": {
     "cell_type": "code",
     "checksum": "13d62d35f3beaf94d996d0430059d90a",
     "grade": true,
     "grade_id": "p1d",
     "locked": false,
     "points": 1,
     "schema_version": 3,
     "solution": true,
     "task": false
    }
   },
   "outputs": [],
   "source": [
    "df2.loc[2020, \"erdgas\"] = 16.5  \n",
    "df2.loc[2022, \"erdgas\"] = 13.7  \n",
    "\n",
    "df2[\"year\"] = df2.index\n",
    "\n",
    "df2 = df2.drop(columns=[\"braunkohle\", \"windkraft\", \"photovoltaik\"])\n",
    "\n",
    "# raise NotImplementedError()"
   ]
  },
  {
   "cell_type": "code",
   "execution_count": 10,
   "id": "82c6e3a2-157a-426f-af71-4ea54fe2c1c4",
   "metadata": {
    "deletable": false,
    "editable": false,
    "nbgrader": {
     "cell_type": "code",
     "checksum": "557e2d9d26d7360d189c2cd376a5a36d",
     "grade": true,
     "grade_id": "t1d",
     "locked": true,
     "points": 1,
     "schema_version": 3,
     "solution": false,
     "task": false
    }
   },
   "outputs": [
    {
     "name": "stdout",
     "output_type": "stream",
     "text": [
      "      erdgas  year\n",
      "2020    16.5  2020\n",
      "2022    13.7  2022\n"
     ]
    }
   ],
   "source": [
    "print(df2)"
   ]
  },
  {
   "cell_type": "markdown",
   "id": "0f801aa5-7713-49d1-ae71-91efaa73b275",
   "metadata": {},
   "source": [
    "2) a) Use one of the methods you learned in the lab session to join the two data frames into one frame called \"wholedf\" so it contains all the rows, columns and information from both data frames, with NaNs in the missing cells. The combined data frame should have 4 rows and 4 columns. Check if all values are correct."
   ]
  },
  {
   "cell_type": "code",
   "execution_count": 11,
   "id": "639f7d7a-9001-430e-b40e-a4fd1582dd57",
   "metadata": {
    "deletable": false,
    "nbgrader": {
     "cell_type": "code",
     "checksum": "9f973e6989ce537a22d4360cdffeeaeb",
     "grade": true,
     "grade_id": "p2a",
     "locked": false,
     "points": 2,
     "schema_version": 3,
     "solution": true,
     "task": false
    }
   },
   "outputs": [],
   "source": [
    "wholedf = pd.concat([df, df2], axis=0)\n",
    "\n",
    "# raise NotImplementedError()"
   ]
  },
  {
   "cell_type": "code",
   "execution_count": 12,
   "id": "dad45a09-b66f-4552-a5fe-4381a3124cdb",
   "metadata": {
    "deletable": false,
    "editable": false,
    "nbgrader": {
     "cell_type": "code",
     "checksum": "566d70a75846b10177cd0332a6046837",
     "grade": true,
     "grade_id": "t2a",
     "locked": true,
     "points": 1,
     "schema_version": 3,
     "solution": false,
     "task": false
    }
   },
   "outputs": [
    {
     "name": "stdout",
     "output_type": "stream",
     "text": [
      "      braunkohle  windkraft  photovoltaik  erdgas    year\n",
      "2019        18.7       20.7           7.4     NaN     NaN\n",
      "2023        16.9       27.7          12.5     NaN     NaN\n",
      "2020         NaN        NaN           NaN    16.5  2020.0\n",
      "2022         NaN        NaN           NaN    13.7  2022.0\n"
     ]
    }
   ],
   "source": [
    "print(wholedf)"
   ]
  },
  {
   "cell_type": "markdown",
   "id": "b61e22e8-8318-4111-9274-603da2dcbd89",
   "metadata": {},
   "source": [
    "2) b) Transpose the \"wholedf\" data frame (flip it such that the columns become rows and vice versa). Make sure that the change is saved."
   ]
  },
  {
   "cell_type": "code",
   "execution_count": 13,
   "id": "b8f097a0-8122-4b45-a3eb-e1c13cb6d959",
   "metadata": {
    "deletable": false,
    "nbgrader": {
     "cell_type": "code",
     "checksum": "5a2bcf21c2a8759b5443baea5ce93743",
     "grade": true,
     "grade_id": "p2b",
     "locked": false,
     "points": 1,
     "schema_version": 3,
     "solution": true,
     "task": false
    }
   },
   "outputs": [],
   "source": [
    "wholedf = wholedf.transpose()\n",
    "\n",
    "# raise NotImplementedError()"
   ]
  },
  {
   "cell_type": "code",
   "execution_count": 14,
   "id": "461487a9-db57-436d-9f5d-b21655477d91",
   "metadata": {
    "deletable": false,
    "editable": false,
    "nbgrader": {
     "cell_type": "code",
     "checksum": "43c14233d2aefb9ad7bb141a40aed970",
     "grade": true,
     "grade_id": "t2b",
     "locked": true,
     "points": 1,
     "schema_version": 3,
     "solution": false,
     "task": false
    }
   },
   "outputs": [
    {
     "name": "stdout",
     "output_type": "stream",
     "text": [
      "              2019  2023    2020    2022\n",
      "braunkohle    18.7  16.9     NaN     NaN\n",
      "windkraft     20.7  27.7     NaN     NaN\n",
      "photovoltaik   7.4  12.5     NaN     NaN\n",
      "erdgas         NaN   NaN    16.5    13.7\n",
      "year           NaN   NaN  2020.0  2022.0\n"
     ]
    }
   ],
   "source": [
    "print(wholedf)"
   ]
  },
  {
   "cell_type": "markdown",
   "id": "8691a96d-7b82-4ce0-b1ca-29e71a4616de",
   "metadata": {},
   "source": [
    "2) c) Add a column called \"renewable\" filled with Boolean values, depending on the row."
   ]
  },
  {
   "cell_type": "code",
   "execution_count": 15,
   "id": "59c51a01-4f9b-4c42-a4ed-d953bcc8c62a",
   "metadata": {
    "deletable": false,
    "nbgrader": {
     "cell_type": "code",
     "checksum": "4ff7faea4d6dce3ce1a3e62da2e56230",
     "grade": true,
     "grade_id": "p2c",
     "locked": false,
     "points": 1,
     "schema_version": 3,
     "solution": true,
     "task": false
    }
   },
   "outputs": [],
   "source": [
    "wholedf[\"renewable\"] = wholedf.index.isin([\"windkraft\", \"photovoltaik\"])\n",
    "\n",
    "# raise NotImplementedError()"
   ]
  },
  {
   "cell_type": "code",
   "execution_count": 16,
   "id": "f33b5634-1d48-491e-af0c-c797ab763068",
   "metadata": {
    "deletable": false,
    "editable": false,
    "nbgrader": {
     "cell_type": "code",
     "checksum": "b7256f31b1b6aaeaa77137b6656b9000",
     "grade": true,
     "grade_id": "t2c",
     "locked": true,
     "points": 1,
     "schema_version": 3,
     "solution": false,
     "task": false
    }
   },
   "outputs": [
    {
     "name": "stdout",
     "output_type": "stream",
     "text": [
      "              2019  2023    2020    2022  renewable\n",
      "braunkohle    18.7  16.9     NaN     NaN      False\n",
      "windkraft     20.7  27.7     NaN     NaN       True\n",
      "photovoltaik   7.4  12.5     NaN     NaN       True\n",
      "erdgas         NaN   NaN    16.5    13.7      False\n",
      "year           NaN   NaN  2020.0  2022.0      False\n"
     ]
    }
   ],
   "source": [
    "print(wholedf)"
   ]
  },
  {
   "cell_type": "markdown",
   "id": "e156c09b-fd82-40ad-a213-9826b6cc6aee",
   "metadata": {},
   "source": [
    "2) d) Use the pivot method to summarize how many values there are for the renewable and non-renewable energy sources in our data frame in each year. Save the summary in a variable called \"pivotdf\"."
   ]
  },
  {
   "cell_type": "code",
   "execution_count": null,
   "id": "4c0c2f65-4e05-431d-ace8-13da7d7d097f",
   "metadata": {
    "deletable": false,
    "nbgrader": {
     "cell_type": "code",
     "checksum": "66b43ba25d0e9f74dbedcc3ea09ea6b2",
     "grade": true,
     "grade_id": "p2d",
     "locked": false,
     "points": 2,
     "schema_version": 3,
     "solution": true,
     "task": false
    }
   },
   "outputs": [],
   "source": [
    "# pivotdf = wholedf.groupby(\"renewable\").count()\n",
    "pivotdf = wholedf.pivot_table(index=\"renewable\", aggfunc=\"count\")\n",
    "\n",
    "\n",
    "# raise NotImplementedError()"
   ]
  },
  {
   "cell_type": "code",
   "execution_count": 18,
   "id": "daf7f1ab-a4a8-47ff-a511-f23a380fc6e4",
   "metadata": {
    "deletable": false,
    "editable": false,
    "nbgrader": {
     "cell_type": "code",
     "checksum": "2ab18840e447d3f2272b09e1c30f3355",
     "grade": true,
     "grade_id": "t2d",
     "locked": true,
     "points": 1,
     "schema_version": 3,
     "solution": false,
     "task": false
    }
   },
   "outputs": [
    {
     "name": "stdout",
     "output_type": "stream",
     "text": [
      "           2019  2020  2022  2023\n",
      "renewable                        \n",
      "False         1     2     2     1\n",
      "True          2     0     0     2\n"
     ]
    }
   ],
   "source": [
    "print(pivotdf)"
   ]
  }
 ],
 "metadata": {
  "kernelspec": {
   "display_name": "vscode-notebook",
   "language": "python",
   "name": "python3"
  },
  "language_info": {
   "codemirror_mode": {
    "name": "ipython",
    "version": 3
   },
   "file_extension": ".py",
   "mimetype": "text/x-python",
   "name": "python",
   "nbconvert_exporter": "python",
   "pygments_lexer": "ipython3",
   "version": "3.12.3"
  }
 },
 "nbformat": 4,
 "nbformat_minor": 5
}
