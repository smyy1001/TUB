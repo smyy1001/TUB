{
 "cells": [
  {
   "cell_type": "markdown",
   "id": "d032926e",
   "metadata": {},
   "source": [
    "Before you turn this problem in, make sure everything runs as expected. First, **restart the kernel** (in the menubar, select Kernel $\\rightarrow$ Restart) and then **run all cells** (in the menubar, select Cell $\\rightarrow$ Run All).\n",
    "\n",
    "Make sure you fill in any place that says `YOUR CODE HERE` or \"YOUR ANSWER HERE\", as well as your name and collaborators below:"
   ]
  },
  {
   "cell_type": "code",
   "execution_count": 1,
   "id": "9f1a383f",
   "metadata": {},
   "outputs": [],
   "source": [
    "NAME = \"Sümeyye Acar\"\n",
    "COLLABORATORS = \"\""
   ]
  },
  {
   "cell_type": "markdown",
   "id": "6af8796d",
   "metadata": {},
   "source": [
    "---"
   ]
  },
  {
   "cell_type": "markdown",
   "id": "11d1c50d-85d3-4d96-bd11-bd95b8a28d0d",
   "metadata": {},
   "source": [
    "## Foundations of Data Literacy and Data Science\n",
    "# Homework 4: The Numpy library"
   ]
  },
  {
   "cell_type": "markdown",
   "id": "6f7d5be1-2a88-496c-9e94-a8d53510149a",
   "metadata": {},
   "source": [
    "1) a) Create an array of zeros. It should have one row per student you remember sitting on your left in the last lecture, and one column in total. Among these students, insert a 1 for each woman you remember into a cell in this array. Also create an array of ones with the same shape (1 column, x rows). Then stack these two horizontally and call the resulting array *left*."
   ]
  },
  {
   "cell_type": "code",
   "execution_count": null,
   "id": "1fc92822-f1d8-4d5e-9421-ccd1bd020627",
   "metadata": {
    "deletable": false,
    "nbgrader": {
     "cell_type": "code",
     "checksum": "324ab203d0755c879c382879a9c76eb5",
     "grade": true,
     "grade_id": "p1a",
     "locked": false,
     "points": 1,
     "schema_version": 3,
     "solution": true,
     "task": false
    }
   },
   "outputs": [],
   "source": [
    "import numpy as np\n",
    "\n",
    "# M M M W W __ME__ M M\n",
    "\n",
    "left_zeros = np.zeros((5, 1))\n",
    "\n",
    "left_zeros[0, 0] = 1\n",
    "left_zeros[1, 0] = 1\n",
    "\n",
    "left_ones = np.ones((5, 1))\n",
    "\n",
    "left = np.hstack((left_zeros, left_ones))\n",
    "# raise NotImplementedError()"
   ]
  },
  {
   "cell_type": "code",
   "execution_count": 3,
   "id": "2237a6a2-a7eb-4379-b9be-ae9495ce44da",
   "metadata": {
    "deletable": false,
    "editable": false,
    "nbgrader": {
     "cell_type": "code",
     "checksum": "97a63a2b2d43c4ce3d7437d6d8664f9a",
     "grade": true,
     "grade_id": "t1a",
     "locked": true,
     "points": 1,
     "schema_version": 3,
     "solution": false,
     "task": false
    }
   },
   "outputs": [
    {
     "name": "stdout",
     "output_type": "stream",
     "text": [
      "[[1. 1.]\n",
      " [1. 1.]\n",
      " [0. 1.]\n",
      " [0. 1.]\n",
      " [0. 1.]]\n"
     ]
    }
   ],
   "source": [
    "print(left)"
   ]
  },
  {
   "cell_type": "markdown",
   "id": "602007e5-3554-417c-8df5-cafe35a9caac",
   "metadata": {},
   "source": [
    "1) b) Do the same for the students you remember sitting on your right and call the resulting array *right*."
   ]
  },
  {
   "cell_type": "code",
   "execution_count": 4,
   "id": "74b8ce10-f60b-4655-a48f-4f993a60c972",
   "metadata": {
    "deletable": false,
    "nbgrader": {
     "cell_type": "code",
     "checksum": "34c3176e84e4ca7769820820584a1349",
     "grade": true,
     "grade_id": "p1b",
     "locked": false,
     "points": 1,
     "schema_version": 3,
     "solution": true,
     "task": false
    }
   },
   "outputs": [],
   "source": [
    "right_zeros = np.zeros((2, 1))\n",
    "\n",
    "right_ones = np.ones((2, 1))\n",
    "\n",
    "right = np.hstack((right_zeros, right_ones))\n",
    "# raise NotImplementedError()"
   ]
  },
  {
   "cell_type": "code",
   "execution_count": 5,
   "id": "429e2cff-16a3-4583-ba59-0e26c85bb319",
   "metadata": {
    "deletable": false,
    "editable": false,
    "nbgrader": {
     "cell_type": "code",
     "checksum": "3f45c8993894b60eff6840d2857b4c35",
     "grade": true,
     "grade_id": "t1b",
     "locked": true,
     "points": 1,
     "schema_version": 3,
     "solution": false,
     "task": false
    }
   },
   "outputs": [
    {
     "name": "stdout",
     "output_type": "stream",
     "text": [
      "[[0. 1.]\n",
      " [0. 1.]]\n"
     ]
    }
   ],
   "source": [
    "print(right)"
   ]
  },
  {
   "cell_type": "markdown",
   "id": "2d55a56e-5359-4045-aa58-43b2fb1d9d0d",
   "metadata": {},
   "source": [
    "1) c) Compute the sums of the columns of both *left* and *right* and save the resulting arrays as *leftsum* and *rightsum*."
   ]
  },
  {
   "cell_type": "code",
   "execution_count": 6,
   "id": "a219e221-3075-479c-a0ee-3541d664126f",
   "metadata": {
    "deletable": false,
    "nbgrader": {
     "cell_type": "code",
     "checksum": "1de5c762a913ccaf05ab1f739f4bbc6a",
     "grade": true,
     "grade_id": "p1c",
     "locked": false,
     "points": 2,
     "schema_version": 3,
     "solution": true,
     "task": false
    }
   },
   "outputs": [],
   "source": [
    "leftsum = np.sum(left, axis=0)\n",
    "rightsum = np.sum(right, axis=0)\n",
    "\n",
    "# raise NotImplementedError()"
   ]
  },
  {
   "cell_type": "code",
   "execution_count": 7,
   "id": "18e5279a-556e-4ffa-bfe2-a7fe13704999",
   "metadata": {
    "deletable": false,
    "editable": false,
    "nbgrader": {
     "cell_type": "code",
     "checksum": "86767de933ac11f24c98f81fdc6a23ba",
     "grade": true,
     "grade_id": "t1c",
     "locked": true,
     "points": 1,
     "schema_version": 3,
     "solution": false,
     "task": false
    }
   },
   "outputs": [
    {
     "name": "stdout",
     "output_type": "stream",
     "text": [
      "[2. 5.] [0. 2.]\n"
     ]
    }
   ],
   "source": [
    "print(leftsum, rightsum)"
   ]
  },
  {
   "cell_type": "markdown",
   "id": "3ec6fab5-5082-4f15-a70f-3c9978e10a77",
   "metadata": {},
   "source": [
    "1) d) Add *leftsum* and *rightsum* together and save the result as *totalsum*. Then divide the first cell by the second cell and save the result as *womensquota*. Check that the quota is <= 1."
   ]
  },
  {
   "cell_type": "code",
   "execution_count": 8,
   "id": "73bf7975-e43e-4f79-811c-3458c5ba0de9",
   "metadata": {
    "deletable": false,
    "nbgrader": {
     "cell_type": "code",
     "checksum": "13d62d35f3beaf94d996d0430059d90a",
     "grade": true,
     "grade_id": "p1d",
     "locked": false,
     "points": 1,
     "schema_version": 3,
     "solution": true,
     "task": false
    }
   },
   "outputs": [],
   "source": [
    "totalsum = leftsum + rightsum\n",
    "\n",
    "womensquota = totalsum[0] / totalsum[1]\n",
    "\n",
    "assert womensquota <= 1, \"Quota exceeds 1\"\n",
    "# raise NotImplementedError()"
   ]
  },
  {
   "cell_type": "code",
   "execution_count": 9,
   "id": "82c6e3a2-157a-426f-af71-4ea54fe2c1c4",
   "metadata": {
    "deletable": false,
    "editable": false,
    "nbgrader": {
     "cell_type": "code",
     "checksum": "7e436a03645f44c2e0fa849c70112bf8",
     "grade": true,
     "grade_id": "t1d",
     "locked": true,
     "points": 1,
     "schema_version": 3,
     "solution": false,
     "task": false
    }
   },
   "outputs": [
    {
     "name": "stdout",
     "output_type": "stream",
     "text": [
      "0.2857142857142857\n"
     ]
    }
   ],
   "source": [
    "print(womensquota)"
   ]
  },
  {
   "cell_type": "markdown",
   "id": "0f801aa5-7713-49d1-ae71-91efaa73b275",
   "metadata": {},
   "source": [
    "2) a) Create a column of zeros with the same number of rows as *left*. Stack it together horizontally with *left* (with *left* first and the new column second), calling the resulting array *left* again. "
   ]
  },
  {
   "cell_type": "code",
   "execution_count": 10,
   "id": "639f7d7a-9001-430e-b40e-a4fd1582dd57",
   "metadata": {
    "deletable": false,
    "nbgrader": {
     "cell_type": "code",
     "checksum": "8c3e9d68941d6d08dfc8f2838b3e702c",
     "grade": true,
     "grade_id": "p2a",
     "locked": false,
     "points": 1,
     "schema_version": 3,
     "solution": true,
     "task": false
    }
   },
   "outputs": [],
   "source": [
    "new_column = np.zeros((left.shape[0], 1))\n",
    "\n",
    "left = np.hstack((left, new_column))\n",
    "\n",
    "# raise NotImplementedError()"
   ]
  },
  {
   "cell_type": "code",
   "execution_count": 11,
   "id": "dad45a09-b66f-4552-a5fe-4381a3124cdb",
   "metadata": {
    "deletable": false,
    "editable": false,
    "nbgrader": {
     "cell_type": "code",
     "checksum": "c62cd7553c23d5f8d36502cc2df3f40c",
     "grade": true,
     "grade_id": "t2a",
     "locked": true,
     "points": 1,
     "schema_version": 3,
     "solution": false,
     "task": false
    }
   },
   "outputs": [
    {
     "name": "stdout",
     "output_type": "stream",
     "text": [
      "[[1. 1. 0.]\n",
      " [1. 1. 0.]\n",
      " [0. 1. 0.]\n",
      " [0. 1. 0.]\n",
      " [0. 1. 0.]]\n"
     ]
    }
   ],
   "source": [
    "print(left)"
   ]
  },
  {
   "cell_type": "markdown",
   "id": "e156c09b-fd82-40ad-a213-9826b6cc6aee",
   "metadata": {},
   "source": [
    "2) b) Create a column of **ones** with the same number of rows as *right*. Stack it together horizontally with *right* (with *right* first and the new column second), calling the resulting array *right* again. "
   ]
  },
  {
   "cell_type": "code",
   "execution_count": 12,
   "id": "6b650c21-012e-4bb8-bad4-e510992d295e",
   "metadata": {
    "deletable": false,
    "nbgrader": {
     "cell_type": "code",
     "checksum": "5a2bcf21c2a8759b5443baea5ce93743",
     "grade": true,
     "grade_id": "p2b",
     "locked": false,
     "points": 1,
     "schema_version": 3,
     "solution": true,
     "task": false
    }
   },
   "outputs": [],
   "source": [
    "new_column2 = np.ones((right.shape[0], 1))\n",
    "\n",
    "right = np.hstack((right, new_column2))\n",
    "\n",
    "# raise NotImplementedError()"
   ]
  },
  {
   "cell_type": "code",
   "execution_count": 13,
   "id": "87583529-90b3-4a38-a33e-edd95710d86a",
   "metadata": {
    "deletable": false,
    "editable": false,
    "nbgrader": {
     "cell_type": "code",
     "checksum": "7c2b53102c3cbc126ef8066a1d84b394",
     "grade": true,
     "grade_id": "t2b",
     "locked": true,
     "points": 1,
     "schema_version": 3,
     "solution": false,
     "task": false
    }
   },
   "outputs": [
    {
     "name": "stdout",
     "output_type": "stream",
     "text": [
      "[[0. 1. 1.]\n",
      " [0. 1. 1.]]\n"
     ]
    }
   ],
   "source": [
    "print(right)"
   ]
  },
  {
   "cell_type": "markdown",
   "id": "bf901d84-1a52-4bb0-a077-803ab3d00742",
   "metadata": {},
   "source": [
    "2) c) Define a function *quotas* which takes two arrays like *left* and *right*, and returns both the total women's quota and the quota of people sitting on the left. It only needs to work on arrays such as we have created here. Use it on your *left* and *right* arrays and save the output in a variable called *results*."
   ]
  },
  {
   "cell_type": "code",
   "execution_count": 14,
   "id": "9309775d-7170-481b-99bc-043b2ed1f0d4",
   "metadata": {
    "deletable": false,
    "nbgrader": {
     "cell_type": "code",
     "checksum": "4ff7faea4d6dce3ce1a3e62da2e56230",
     "grade": true,
     "grade_id": "p2c",
     "locked": false,
     "points": 1,
     "schema_version": 3,
     "solution": true,
     "task": false
    }
   },
   "outputs": [],
   "source": [
    "def quotas(left, right):\n",
    "    leftsum = np.sum(left, axis=0)\n",
    "    rigthsum = np.sum(right, axis=0)\n",
    "\n",
    "    # total women's quota\n",
    "    totalsum = leftsum + rigthsum\n",
    "    womensquota = totalsum[0] / totalsum[1]\n",
    "    \n",
    "    # the quota of people sitting on the left\n",
    "    total_people = leftsum[1] + rightsum[1]\n",
    "    leftquota = leftsum[1] / total_people\n",
    "    \n",
    "    return womensquota, leftquota\n",
    "\n",
    "results = quotas(left, right)\n",
    "\n",
    "# raise NotImplementedError()"
   ]
  },
  {
   "cell_type": "code",
   "execution_count": 15,
   "id": "833732c3-b177-4c7f-9c8f-9db9fd109c0b",
   "metadata": {
    "deletable": false,
    "editable": false,
    "nbgrader": {
     "cell_type": "code",
     "checksum": "512cf3aa2464fa6b7a3db2f8ab62e778",
     "grade": true,
     "grade_id": "t2c",
     "locked": true,
     "points": 1,
     "schema_version": 3,
     "solution": false,
     "task": false
    }
   },
   "outputs": [
    {
     "name": "stdout",
     "output_type": "stream",
     "text": [
      "(np.float64(0.2857142857142857), np.float64(0.7142857142857143))\n"
     ]
    }
   ],
   "source": [
    "print(results)"
   ]
  },
  {
   "cell_type": "markdown",
   "id": "ea86a8ad-a331-4a10-820a-f48d4191bedc",
   "metadata": {},
   "source": [
    "2) d) Get the unique values in *results*, calling the result *uni*."
   ]
  },
  {
   "cell_type": "code",
   "execution_count": 16,
   "id": "7ba3a0e1-52dd-4b5d-a766-2011b4d4cc54",
   "metadata": {
    "deletable": false,
    "nbgrader": {
     "cell_type": "code",
     "checksum": "dabd7393eb9e5708817db84201e89017",
     "grade": true,
     "grade_id": "p2d",
     "locked": false,
     "points": 1,
     "schema_version": 3,
     "solution": true,
     "task": false
    }
   },
   "outputs": [],
   "source": [
    "uni = np.unique(results)\n",
    "\n",
    "# raise NotImplementedError()"
   ]
  },
  {
   "cell_type": "code",
   "execution_count": 17,
   "id": "8d7341b2-dafe-4077-867e-40378870bd91",
   "metadata": {
    "deletable": false,
    "editable": false,
    "nbgrader": {
     "cell_type": "code",
     "checksum": "106b97be93815fca9e6d30222df00051",
     "grade": true,
     "grade_id": "t2d",
     "locked": true,
     "points": 1,
     "schema_version": 3,
     "solution": false,
     "task": false
    }
   },
   "outputs": [
    {
     "name": "stdout",
     "output_type": "stream",
     "text": [
      "[0.28571429 0.71428571]\n"
     ]
    }
   ],
   "source": [
    "print(uni)"
   ]
  },
  {
   "cell_type": "markdown",
   "id": "ec19cb37-4aa2-4f64-a6fb-a3c9807cb7a0",
   "metadata": {},
   "source": [
    "2) e) Save *results* into a csv file called \"quotas.csv\", with semicolons as delimiters."
   ]
  },
  {
   "cell_type": "code",
   "execution_count": 18,
   "id": "ff20362e-0cbd-4c7f-9758-654a8d75037b",
   "metadata": {
    "deletable": false,
    "nbgrader": {
     "cell_type": "code",
     "checksum": "dfd73e9fc1f071031f21afbc632f07df",
     "grade": true,
     "grade_id": "p2e",
     "locked": false,
     "points": 1,
     "schema_version": 3,
     "solution": true,
     "task": false
    }
   },
   "outputs": [],
   "source": [
    "np.savetxt(\"quotas.csv\", results, delimiter=\";\",fmt=\"%s\")\n",
    "# raise NotImplementedError()"
   ]
  },
  {
   "cell_type": "code",
   "execution_count": null,
   "id": "79351d00-480b-4704-ab0f-65b14e9f459c",
   "metadata": {},
   "outputs": [],
   "source": []
  }
 ],
 "metadata": {
  "kernelspec": {
   "display_name": "vscode-notebook",
   "language": "python",
   "name": "python3"
  },
  "language_info": {
   "codemirror_mode": {
    "name": "ipython",
    "version": 3
   },
   "file_extension": ".py",
   "mimetype": "text/x-python",
   "name": "python",
   "nbconvert_exporter": "python",
   "pygments_lexer": "ipython3",
   "version": "3.12.3"
  }
 },
 "nbformat": 4,
 "nbformat_minor": 5
}
