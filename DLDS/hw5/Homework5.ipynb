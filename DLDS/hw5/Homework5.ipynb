{
 "cells": [
  {
   "cell_type": "markdown",
   "id": "eb053de9",
   "metadata": {},
   "source": [
    "Before you turn this problem in, make sure everything runs as expected. First, **restart the kernel** (in the menubar, select Kernel $\\rightarrow$ Restart) and then **run all cells** (in the menubar, select Cell $\\rightarrow$ Run All).\n",
    "\n",
    "Make sure you fill in any place that says `YOUR CODE HERE` or \"YOUR ANSWER HERE\", as well as your name and collaborators below:"
   ]
  },
  {
   "cell_type": "code",
   "execution_count": 1,
   "id": "2c05e5ef",
   "metadata": {},
   "outputs": [],
   "source": [
    "NAME = \"Sümeyye Acar\"\n",
    "COLLABORATORS = \"\""
   ]
  },
  {
   "cell_type": "markdown",
   "id": "a905c408",
   "metadata": {},
   "source": [
    "---"
   ]
  },
  {
   "cell_type": "markdown",
   "id": "11d1c50d-85d3-4d96-bd11-bd95b8a28d0d",
   "metadata": {},
   "source": [
    "## Foundations of Data Literacy and Data Science\n",
    "# Homework 5: Data Visualization Basics"
   ]
  },
  {
   "cell_type": "markdown",
   "id": "6f7d5be1-2a88-496c-9e94-a8d53510149a",
   "metadata": {},
   "source": [
    "1) a) Import the data frame on life satisfaction in the EU enclosed in the homework. The data frame variable should be called *ls_df*. Source: https://doi.org/10.2908/ILC_PW02 . Make sure all the values are in float format, and the countries make up the row indices. Drop all rows with NaN values from the data frame, and save this change."
   ]
  },
  {
   "cell_type": "code",
   "execution_count": 2,
   "id": "1fc92822-f1d8-4d5e-9421-ccd1bd020627",
   "metadata": {
    "deletable": false,
    "nbgrader": {
     "cell_type": "code",
     "checksum": "3baba781ca969ef6e416806dcb1d93a4",
     "grade": true,
     "grade_id": "p1a",
     "locked": false,
     "points": 1,
     "schema_version": 3,
     "solution": true,
     "task": false
    }
   },
   "outputs": [
    {
     "data": {
      "text/html": [
       "<div>\n",
       "<style scoped>\n",
       "    .dataframe tbody tr th:only-of-type {\n",
       "        vertical-align: middle;\n",
       "    }\n",
       "\n",
       "    .dataframe tbody tr th {\n",
       "        vertical-align: top;\n",
       "    }\n",
       "\n",
       "    .dataframe thead th {\n",
       "        text-align: right;\n",
       "    }\n",
       "</style>\n",
       "<table border=\"1\" class=\"dataframe\">\n",
       "  <thead>\n",
       "    <tr style=\"text-align: right;\">\n",
       "      <th></th>\n",
       "      <th>2013</th>\n",
       "      <th>2018</th>\n",
       "      <th>2021</th>\n",
       "      <th>2022</th>\n",
       "      <th>2023</th>\n",
       "      <th>2024</th>\n",
       "    </tr>\n",
       "    <tr>\n",
       "      <th>Country</th>\n",
       "      <th></th>\n",
       "      <th></th>\n",
       "      <th></th>\n",
       "      <th></th>\n",
       "      <th></th>\n",
       "      <th></th>\n",
       "    </tr>\n",
       "  </thead>\n",
       "  <tbody>\n",
       "    <tr>\n",
       "      <th>Belgien</th>\n",
       "      <td>7.5</td>\n",
       "      <td>7.6</td>\n",
       "      <td>7.5</td>\n",
       "      <td>7.6</td>\n",
       "      <td>7.7</td>\n",
       "      <td>7.6</td>\n",
       "    </tr>\n",
       "    <tr>\n",
       "      <th>Bulgarien</th>\n",
       "      <td>4.8</td>\n",
       "      <td>5.4</td>\n",
       "      <td>5.7</td>\n",
       "      <td>5.6</td>\n",
       "      <td>5.9</td>\n",
       "      <td>6.2</td>\n",
       "    </tr>\n",
       "    <tr>\n",
       "      <th>Tschechien</th>\n",
       "      <td>6.9</td>\n",
       "      <td>7.4</td>\n",
       "      <td>7.3</td>\n",
       "      <td>7.4</td>\n",
       "      <td>7.4</td>\n",
       "      <td>7.4</td>\n",
       "    </tr>\n",
       "    <tr>\n",
       "      <th>Dänemark</th>\n",
       "      <td>8.0</td>\n",
       "      <td>7.8</td>\n",
       "      <td>7.5</td>\n",
       "      <td>7.6</td>\n",
       "      <td>7.5</td>\n",
       "      <td>7.6</td>\n",
       "    </tr>\n",
       "    <tr>\n",
       "      <th>Estland</th>\n",
       "      <td>6.5</td>\n",
       "      <td>7.0</td>\n",
       "      <td>7.2</td>\n",
       "      <td>7.2</td>\n",
       "      <td>7.2</td>\n",
       "      <td>7.1</td>\n",
       "    </tr>\n",
       "  </tbody>\n",
       "</table>\n",
       "</div>"
      ],
      "text/plain": [
       "            2013  2018  2021  2022  2023  2024\n",
       "Country                                       \n",
       "Belgien      7.5   7.6   7.5   7.6   7.7   7.6\n",
       "Bulgarien    4.8   5.4   5.7   5.6   5.9   6.2\n",
       "Tschechien   6.9   7.4   7.3   7.4   7.4   7.4\n",
       "Dänemark     8.0   7.8   7.5   7.6   7.5   7.6\n",
       "Estland      6.5   7.0   7.2   7.2   7.2   7.1"
      ]
     },
     "execution_count": 2,
     "metadata": {},
     "output_type": "execute_result"
    }
   ],
   "source": [
    "import numpy as np\n",
    "import pandas as pd\n",
    "\n",
    "\n",
    "ls_df = pd.read_csv(\"life_satisf.csv\", delimiter=\";\", engine=\"python\")\n",
    "\n",
    "ls_df.rename(columns={ls_df.columns[0]: \"Country\"}, inplace=True)\n",
    "\n",
    "ls_df.set_index(\"Country\", inplace=True)\n",
    "\n",
    "ls_df = ls_df.apply(pd.to_numeric, errors=\"coerce\")\n",
    "\n",
    "ls_df.dropna(inplace=True)\n",
    "\n",
    "ls_df.head()\n",
    "\n",
    "\n",
    "# raise NotImplementedError()"
   ]
  },
  {
   "cell_type": "code",
   "execution_count": 3,
   "id": "e062df98-ec82-4e19-b121-616626c64e9b",
   "metadata": {
    "deletable": false,
    "editable": false,
    "nbgrader": {
     "cell_type": "code",
     "checksum": "e6f7f5f1fbfe89bf99033d5661bed27b",
     "grade": true,
     "grade_id": "t1a",
     "locked": true,
     "points": 1,
     "schema_version": 3,
     "solution": false,
     "task": false
    }
   },
   "outputs": [
    {
     "name": "stdout",
     "output_type": "stream",
     "text": [
      "<class 'pandas.core.frame.DataFrame'>\n",
      "Index: 26 entries, Belgien to Norwegen\n",
      "Data columns (total 6 columns):\n",
      " #   Column  Non-Null Count  Dtype  \n",
      "---  ------  --------------  -----  \n",
      " 0   2013    26 non-null     float64\n",
      " 1   2018    26 non-null     float64\n",
      " 2   2021    26 non-null     float64\n",
      " 3   2022    26 non-null     float64\n",
      " 4   2023    26 non-null     float64\n",
      " 5   2024    26 non-null     float64\n",
      "dtypes: float64(6)\n",
      "memory usage: 1.4+ KB\n",
      "None\n"
     ]
    }
   ],
   "source": [
    "print(ls_df.info())"
   ]
  },
  {
   "cell_type": "markdown",
   "id": "b676f032-a525-4607-87e5-51dfe9b5ec61",
   "metadata": {},
   "source": [
    "1) b) Use a conditional statement to check if there are any NaN values in the data frame. If so, automatically drop all rows with NaN values and save this change.\n",
    "*Hint:* You can do this using only functions from the lab session, but the pandas function .any() is more elegant here."
   ]
  },
  {
   "cell_type": "code",
   "execution_count": 4,
   "id": "0ea9a443-e656-416f-8257-6b840b639315",
   "metadata": {
    "deletable": false,
    "nbgrader": {
     "cell_type": "code",
     "checksum": "34c3176e84e4ca7769820820584a1349",
     "grade": true,
     "grade_id": "p1b",
     "locked": false,
     "points": 1,
     "schema_version": 3,
     "solution": true,
     "task": false
    }
   },
   "outputs": [
    {
     "name": "stdout",
     "output_type": "stream",
     "text": [
      "Any NaNs remaining? False\n"
     ]
    }
   ],
   "source": [
    "if ls_df.isnull().any().any():\n",
    "    ls_df.dropna(inplace=True)\n",
    "\n",
    "print(\"Any NaNs remaining?\", ls_df.isnull().values.any())\n",
    "\n",
    "\n",
    "# raise NotImplementedError()"
   ]
  },
  {
   "cell_type": "markdown",
   "id": "bb0435bb-9928-45cc-b432-96ab4de1c807",
   "metadata": {},
   "source": [
    "2) Compute the first, second and third quartile for each year using the function from the lab session. Make sure all first quartiles are saved together in an array called *quart1*, all the medians in an array called *medians*, and all the third quartiles in an array called *quart3*."
   ]
  },
  {
   "cell_type": "code",
   "execution_count": 5,
   "id": "b05200ff-fe4b-4032-b5af-b8bcbbe58af3",
   "metadata": {
    "deletable": false,
    "nbgrader": {
     "cell_type": "code",
     "checksum": "134fbfc58ec37c10d63694ddf0ff5fb3",
     "grade": true,
     "grade_id": "p2",
     "locked": false,
     "points": 1,
     "schema_version": 3,
     "solution": true,
     "task": false
    }
   },
   "outputs": [],
   "source": [
    "quart1 = ls_df.quantile(0.25).values\n",
    "medians = ls_df.quantile(0.50).values\n",
    "quart3 = ls_df.quantile(0.75).values\n",
    "\n",
    "# raise NotImplementedError()"
   ]
  },
  {
   "cell_type": "code",
   "execution_count": 6,
   "id": "3f1bcd71-3ecd-4102-9739-07beccb7adb1",
   "metadata": {
    "deletable": false,
    "editable": false,
    "nbgrader": {
     "cell_type": "code",
     "checksum": "96495e82f0841901cd07c051bda6b50a",
     "grade": true,
     "grade_id": "t2",
     "locked": true,
     "points": 1,
     "schema_version": 3,
     "solution": false,
     "task": false
    }
   },
   "outputs": [
    {
     "name": "stdout",
     "output_type": "stream",
     "text": [
      "[6.525 7.    6.85  7.025 7.2   7.2  ] [7.05 7.35 7.25 7.3  7.4  7.4 ] [7.475 7.7   7.5   7.6   7.6   7.6  ]\n"
     ]
    }
   ],
   "source": [
    "print(quart1, medians, quart3)"
   ]
  },
  {
   "cell_type": "markdown",
   "id": "f70195f7-36f0-43f4-b099-290e3d22da28",
   "metadata": {},
   "source": [
    "3) Find out the range of the scale used to measure the data (see the source above), and save the min and max in a list called *scale_range*."
   ]
  },
  {
   "cell_type": "code",
   "execution_count": 7,
   "id": "9e622aaf-392e-4141-83c6-f9c3951f9372",
   "metadata": {
    "deletable": false,
    "nbgrader": {
     "cell_type": "code",
     "checksum": "54fa0425078952630551400fede2e9c3",
     "grade": true,
     "grade_id": "p3",
     "locked": false,
     "points": 1,
     "schema_version": 3,
     "solution": true,
     "task": false
    }
   },
   "outputs": [],
   "source": [
    "scale_range = [0, 10]\n",
    "# raise NotImplementedError()"
   ]
  },
  {
   "cell_type": "code",
   "execution_count": 8,
   "id": "3b0abd78-1936-4410-b05b-f754b6562973",
   "metadata": {
    "deletable": false,
    "editable": false,
    "nbgrader": {
     "cell_type": "code",
     "checksum": "83d34dc9ac8bab3bd01d707b8df1fe74",
     "grade": true,
     "grade_id": "t3",
     "locked": true,
     "points": 1,
     "schema_version": 3,
     "solution": false,
     "task": false
    }
   },
   "outputs": [
    {
     "name": "stdout",
     "output_type": "stream",
     "text": [
      "[0, 10]\n"
     ]
    }
   ],
   "source": [
    "print(scale_range)"
   ]
  },
  {
   "cell_type": "markdown",
   "id": "74dffa89-a0a4-4af9-bff7-10c1c74be426",
   "metadata": {},
   "source": [
    "4) Visualize the data in a series of violin plots within one figure. There should be one violin for each year, and they should stand in a row. Also show a thick line representing the interval from quartile 1 to 3 in each violin. Connect the medians across years with a line plot. Make sure to label the x and y axes, and the x axis ticks. The y axis limits should represent the scale range."
   ]
  },
  {
   "cell_type": "code",
   "execution_count": 9,
   "id": "9829b2c1-3a14-4e43-910c-cbcde51c2112",
   "metadata": {
    "deletable": false,
    "nbgrader": {
     "cell_type": "code",
     "checksum": "b1a42c42ac1c96cc94e64f9e72e68738",
     "grade": true,
     "grade_id": "p4",
     "locked": false,
     "points": 10,
     "schema_version": 3,
     "solution": true,
     "task": false
    }
   },
   "outputs": [
    {
     "data": {
      "image/png": "[encoded data removed]",
      "text/plain": [
       "<Figure size 1000x600 with 1 Axes>"
      ]
     },
     "metadata": {},
     "output_type": "display_data"
    }
   ],
   "source": [
    "import matplotlib.pyplot as plt\n",
    "\n",
    "\n",
    "years = ls_df.columns.astype(str)\n",
    "positions = np.arange(len(years))\n",
    "\n",
    "fig, ax = plt.subplots(figsize=(10, 6))\n",
    "\n",
    "parts = ax.violinplot(\n",
    "    [ls_df[year] for year in ls_df.columns],\n",
    "    positions=positions,\n",
    "    showmeans=False,\n",
    "    showextrema=False,\n",
    "    showmedians=False,\n",
    ")\n",
    "\n",
    "for i in range(len(positions)):\n",
    "    ax.plot(\n",
    "        [positions[i], positions[i]], [quart1[i], quart3[i]], color=\"black\", linewidth=4\n",
    "    )\n",
    "\n",
    "ax.plot(positions, medians, color=\"red\", linewidth=2, marker=\"o\", label=\"Median\")\n",
    "\n",
    "# Label all \n",
    "ax.set_xticks(positions)\n",
    "ax.set_xticklabels(years)\n",
    "ax.set_xlabel(\"Year\")\n",
    "ax.set_ylabel(\"Life Satisfaction Score\")\n",
    "ax.set_title(\"Life Satisfaction in EU (Violin Plot with Quartiles)\")\n",
    "ax.set_ylim(scale_range)\n",
    "ax.legend()\n",
    "plt.grid(True)\n",
    "plt.tight_layout()\n",
    "plt.show()\n",
    "\n",
    "\n",
    "# raise NotImplementedError()"
   ]
  }
 ],
 "metadata": {
  "kernelspec": {
   "display_name": "vscode-notebook",
   "language": "python",
   "name": "python3"
  },
  "language_info": {
   "codemirror_mode": {
    "name": "ipython",
    "version": 3
   },
   "file_extension": ".py",
   "mimetype": "text/x-python",
   "name": "python",
   "nbconvert_exporter": "python",
   "pygments_lexer": "ipython3",
   "version": "3.12.3"
  }
 },
 "nbformat": 4,
 "nbformat_minor": 5
}
